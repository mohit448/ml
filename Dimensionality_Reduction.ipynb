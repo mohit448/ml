{
 "cells": [
  {
   "cell_type": "markdown",
   "metadata": {},
   "source": [
    "# <center>Introduction to Dimensionality Reduction</center>\n",
    "<div style=\"text-align: right\"> By - Mohit Kumar</div>\n",
    "<div style=\"text-align: right\">Date - 14th Oct 2018</div>"
   ]
  },
  {
   "cell_type": "markdown",
   "metadata": {},
   "source": [
    "***"
   ]
  },
  {
   "cell_type": "markdown",
   "metadata": {},
   "source": [
    "## Index\n",
    "\n",
    "-  **1. Introduction**\n",
    "-  **2.  Data Description**\n",
    "    - 2.1 Dataset - MNIST\n",
    "-  **3. Data Preperation** \n",
    "    -  3.1 Data Load\n",
    "    -  3.2 Data Sneakpeak\n",
    "    -  3.3 Split Input and Output Dimension\n",
    "    -  3.4 Null/Missing values analysis\n",
    "    -  3.5 Data Standardization\n",
    "-  **4. PCA (Principal Component Analysis)**\n",
    "    -  4.1 Covariance Matrix\n",
    "    -  4.2 Eighen Values and Vector \n",
    "        -  4.2.a Analyzing new Dimensionality and % of variance retained\n",
    "    -  4.3 Data Visualization with 2 dimensions\n",
    "-  **5. PCA using Scikit-Learn**\n",
    "    -  5.1 Configuring the model.\n",
    "    -  5.2 Binding model to dataset\n",
    "    -  5.3 Data Visualization\n",
    "-  **6. t-SNE using Scikit-Learn**\n",
    "    -  6.1 Configuring the model.\n",
    "    -  6.2 Binding model to dataset\n",
    "    -  6.3 Data Visualization"
   ]
  },
  {
   "cell_type": "markdown",
   "metadata": {},
   "source": [
    "### 1. Introduction"
   ]
  },
  {
   "cell_type": "markdown",
   "metadata": {},
   "source": [
    "There are often too many input variables on the basis of which final output is predicted. The larger the input feature, the harder it is to visualize the dataset and build a model on top of that. Point to note is, most of these features are redundant and don't convey too much as far as output variable is concerned. This is where dimensionality reduction algorithms come into play. Dimensionality reduction is the process of reducing the number of random variables under consideration, by obtaining a set of principal variables."
   ]
  },
  {
   "cell_type": "markdown",
   "metadata": {},
   "source": [
    "### 2. Data Description\n",
    "\n",
    "Dataset - MNIST <br>\n",
    "Source  - https://www.kaggle.com/c/digit-recognizer/data <br>\n",
    "Description - \n",
    "    -  MNIST or Modified National Institute of Standards and Technology is the largest dataset of handwritten digits. \n",
    "    -  It has 42000 training images and 28000 testing images. \n",
    "    -  Images were normalized to fit a 28*28 pixel bounding box.\n",
    "    -  This 28*28 pixel is flattened to have 1*784 bounding box as a single data point. \n",
    "    -  Therefore, we have dataset with 42000 rows(data point) and 784 columns (dimensions)"
   ]
  },
  {
   "cell_type": "markdown",
   "metadata": {},
   "source": [
    "#### Import Packages"
   ]
  },
  {
   "cell_type": "code",
   "execution_count": 1,
   "metadata": {},
   "outputs": [],
   "source": [
    "#Import Packages\n",
    "import numpy as np\n",
    "import pandas as pd\n",
    "import matplotlib.pyplot as plt\n",
    "import seaborn as sns\n",
    "\n",
    "from sklearn.preprocessing import StandardScaler\n",
    "from sklearn import decomposition\n",
    "from sklearn.manifold import TSNE\n",
    "\n",
    "from scipy.linalg import eigh"
   ]
  },
  {
   "cell_type": "markdown",
   "metadata": {},
   "source": [
    "### 3. Data Preperation"
   ]
  },
  {
   "cell_type": "markdown",
   "metadata": {},
   "source": [
    "#### 3.1 Load Data"
   ]
  },
  {
   "cell_type": "code",
   "execution_count": 2,
   "metadata": {},
   "outputs": [],
   "source": [
    "#Read Dataset\n",
    "rawdata = pd.read_csv('MNIST/train.csv')"
   ]
  },
  {
   "cell_type": "markdown",
   "metadata": {},
   "source": [
    "#### 3.2 Data Sneakpeak"
   ]
  },
  {
   "cell_type": "code",
   "execution_count": 3,
   "metadata": {
    "scrolled": false
   },
   "outputs": [
    {
     "name": "stdout",
     "output_type": "stream",
     "text": [
      "Dataset has 42000 rows and 785 columns\n",
      "\n",
      " Below are sample 5 records in dataset -\n"
     ]
    },
    {
     "data": {
      "text/html": [
       "<div>\n",
       "<style scoped>\n",
       "    .dataframe tbody tr th:only-of-type {\n",
       "        vertical-align: middle;\n",
       "    }\n",
       "\n",
       "    .dataframe tbody tr th {\n",
       "        vertical-align: top;\n",
       "    }\n",
       "\n",
       "    .dataframe thead th {\n",
       "        text-align: right;\n",
       "    }\n",
       "</style>\n",
       "<table border=\"1\" class=\"dataframe\">\n",
       "  <thead>\n",
       "    <tr style=\"text-align: right;\">\n",
       "      <th></th>\n",
       "      <th>label</th>\n",
       "      <th>pixel0</th>\n",
       "      <th>pixel1</th>\n",
       "      <th>pixel2</th>\n",
       "      <th>pixel3</th>\n",
       "      <th>pixel4</th>\n",
       "      <th>pixel5</th>\n",
       "      <th>pixel6</th>\n",
       "      <th>pixel7</th>\n",
       "      <th>pixel8</th>\n",
       "      <th>...</th>\n",
       "      <th>pixel774</th>\n",
       "      <th>pixel775</th>\n",
       "      <th>pixel776</th>\n",
       "      <th>pixel777</th>\n",
       "      <th>pixel778</th>\n",
       "      <th>pixel779</th>\n",
       "      <th>pixel780</th>\n",
       "      <th>pixel781</th>\n",
       "      <th>pixel782</th>\n",
       "      <th>pixel783</th>\n",
       "    </tr>\n",
       "  </thead>\n",
       "  <tbody>\n",
       "    <tr>\n",
       "      <th>0</th>\n",
       "      <td>1</td>\n",
       "      <td>0</td>\n",
       "      <td>0</td>\n",
       "      <td>0</td>\n",
       "      <td>0</td>\n",
       "      <td>0</td>\n",
       "      <td>0</td>\n",
       "      <td>0</td>\n",
       "      <td>0</td>\n",
       "      <td>0</td>\n",
       "      <td>...</td>\n",
       "      <td>0</td>\n",
       "      <td>0</td>\n",
       "      <td>0</td>\n",
       "      <td>0</td>\n",
       "      <td>0</td>\n",
       "      <td>0</td>\n",
       "      <td>0</td>\n",
       "      <td>0</td>\n",
       "      <td>0</td>\n",
       "      <td>0</td>\n",
       "    </tr>\n",
       "    <tr>\n",
       "      <th>1</th>\n",
       "      <td>0</td>\n",
       "      <td>0</td>\n",
       "      <td>0</td>\n",
       "      <td>0</td>\n",
       "      <td>0</td>\n",
       "      <td>0</td>\n",
       "      <td>0</td>\n",
       "      <td>0</td>\n",
       "      <td>0</td>\n",
       "      <td>0</td>\n",
       "      <td>...</td>\n",
       "      <td>0</td>\n",
       "      <td>0</td>\n",
       "      <td>0</td>\n",
       "      <td>0</td>\n",
       "      <td>0</td>\n",
       "      <td>0</td>\n",
       "      <td>0</td>\n",
       "      <td>0</td>\n",
       "      <td>0</td>\n",
       "      <td>0</td>\n",
       "    </tr>\n",
       "    <tr>\n",
       "      <th>2</th>\n",
       "      <td>1</td>\n",
       "      <td>0</td>\n",
       "      <td>0</td>\n",
       "      <td>0</td>\n",
       "      <td>0</td>\n",
       "      <td>0</td>\n",
       "      <td>0</td>\n",
       "      <td>0</td>\n",
       "      <td>0</td>\n",
       "      <td>0</td>\n",
       "      <td>...</td>\n",
       "      <td>0</td>\n",
       "      <td>0</td>\n",
       "      <td>0</td>\n",
       "      <td>0</td>\n",
       "      <td>0</td>\n",
       "      <td>0</td>\n",
       "      <td>0</td>\n",
       "      <td>0</td>\n",
       "      <td>0</td>\n",
       "      <td>0</td>\n",
       "    </tr>\n",
       "    <tr>\n",
       "      <th>3</th>\n",
       "      <td>4</td>\n",
       "      <td>0</td>\n",
       "      <td>0</td>\n",
       "      <td>0</td>\n",
       "      <td>0</td>\n",
       "      <td>0</td>\n",
       "      <td>0</td>\n",
       "      <td>0</td>\n",
       "      <td>0</td>\n",
       "      <td>0</td>\n",
       "      <td>...</td>\n",
       "      <td>0</td>\n",
       "      <td>0</td>\n",
       "      <td>0</td>\n",
       "      <td>0</td>\n",
       "      <td>0</td>\n",
       "      <td>0</td>\n",
       "      <td>0</td>\n",
       "      <td>0</td>\n",
       "      <td>0</td>\n",
       "      <td>0</td>\n",
       "    </tr>\n",
       "    <tr>\n",
       "      <th>4</th>\n",
       "      <td>0</td>\n",
       "      <td>0</td>\n",
       "      <td>0</td>\n",
       "      <td>0</td>\n",
       "      <td>0</td>\n",
       "      <td>0</td>\n",
       "      <td>0</td>\n",
       "      <td>0</td>\n",
       "      <td>0</td>\n",
       "      <td>0</td>\n",
       "      <td>...</td>\n",
       "      <td>0</td>\n",
       "      <td>0</td>\n",
       "      <td>0</td>\n",
       "      <td>0</td>\n",
       "      <td>0</td>\n",
       "      <td>0</td>\n",
       "      <td>0</td>\n",
       "      <td>0</td>\n",
       "      <td>0</td>\n",
       "      <td>0</td>\n",
       "    </tr>\n",
       "  </tbody>\n",
       "</table>\n",
       "<p>5 rows × 785 columns</p>\n",
       "</div>"
      ],
      "text/plain": [
       "   label  pixel0  pixel1  pixel2  pixel3  pixel4  pixel5  pixel6  pixel7  \\\n",
       "0      1       0       0       0       0       0       0       0       0   \n",
       "1      0       0       0       0       0       0       0       0       0   \n",
       "2      1       0       0       0       0       0       0       0       0   \n",
       "3      4       0       0       0       0       0       0       0       0   \n",
       "4      0       0       0       0       0       0       0       0       0   \n",
       "\n",
       "   pixel8    ...     pixel774  pixel775  pixel776  pixel777  pixel778  \\\n",
       "0       0    ...            0         0         0         0         0   \n",
       "1       0    ...            0         0         0         0         0   \n",
       "2       0    ...            0         0         0         0         0   \n",
       "3       0    ...            0         0         0         0         0   \n",
       "4       0    ...            0         0         0         0         0   \n",
       "\n",
       "   pixel779  pixel780  pixel781  pixel782  pixel783  \n",
       "0         0         0         0         0         0  \n",
       "1         0         0         0         0         0  \n",
       "2         0         0         0         0         0  \n",
       "3         0         0         0         0         0  \n",
       "4         0         0         0         0         0  \n",
       "\n",
       "[5 rows x 785 columns]"
      ]
     },
     "execution_count": 3,
     "metadata": {},
     "output_type": "execute_result"
    }
   ],
   "source": [
    "#Check dataset shape and some records\n",
    "print('Dataset has %d rows and %d columns' % (rawdata.shape[0] ,rawdata.shape[1]))\n",
    "print('\\n Below are sample 5 records in dataset -')\n",
    "rawdata.head()\n"
   ]
  },
  {
   "cell_type": "markdown",
   "metadata": {},
   "source": [
    "#### 3.3 Split Input dimensions and Output Variable into different DataFrame"
   ]
  },
  {
   "cell_type": "code",
   "execution_count": 4,
   "metadata": {
    "scrolled": false
   },
   "outputs": [
    {
     "name": "stdout",
     "output_type": "stream",
     "text": [
      "Input Dataset has 42000 rows and 784 columns\n",
      "Output Dataset has 42000 rows and 1 columns\n",
      "\n",
      "Frequency of value in output label -\n",
      "1    4684\n",
      "7    4401\n",
      "3    4351\n",
      "9    4188\n",
      "2    4177\n",
      "6    4137\n",
      "0    4132\n",
      "4    4072\n",
      "8    4063\n",
      "5    3795\n",
      "Name: label, dtype: int64\n"
     ]
    }
   ],
   "source": [
    "#Input Dimension\n",
    "raw_X = rawdata.drop('label',axis = 1)\n",
    "\n",
    "#Output Variable\n",
    "raw_Y = rawdata['label']\n",
    "\n",
    "#Shape of new input and output df\n",
    "print('Input Dataset has %d rows and %d columns' % (raw_X.shape[0] ,raw_X.shape[1]))\n",
    "print('Output Dataset has %d rows and %d columns' % (raw_Y.shape[0] , 1))\n",
    "\n",
    "print('\\nFrequency of value in output label -')\n",
    "print(raw_Y.value_counts())"
   ]
  },
  {
   "cell_type": "code",
   "execution_count": 5,
   "metadata": {},
   "outputs": [
    {
     "data": {
      "text/plain": [
       "<matplotlib.axes._subplots.AxesSubplot at 0x1eb04a2a0b8>"
      ]
     },
     "execution_count": 5,
     "metadata": {},
     "output_type": "execute_result"
    },
    {
     "data": {
      "image/png": "[encoded data removed]",
      "text/plain": [
       "<matplotlib.figure.Figure at 0x1eb04a2afd0>"
      ]
     },
     "metadata": {},
     "output_type": "display_data"
    }
   ],
   "source": [
    "#Plot - Output variable value count\n",
    "sns.countplot(raw_Y)"
   ]
  },
  {
   "cell_type": "markdown",
   "metadata": {},
   "source": [
    "**Observation** <br>\n",
    "It is a fairly balanced dataset with each output label having anywhere between 9 to 11% representation."
   ]
  },
  {
   "cell_type": "markdown",
   "metadata": {},
   "source": [
    "#### Check data split accuracy - ploting graph between Input Dimension and Output Variable"
   ]
  },
  {
   "cell_type": "code",
   "execution_count": 6,
   "metadata": {
    "scrolled": true
   },
   "outputs": [
    {
     "name": "stdout",
     "output_type": "stream",
     "text": [
      "Value in Input Image -\n"
     ]
    },
    {
     "data": {
      "image/png": "[encoded data removed]",
      "text/plain": [
       "<matplotlib.figure.Figure at 0x1eb04c49b38>"
      ]
     },
     "metadata": {},
     "output_type": "display_data"
    },
    {
     "name": "stdout",
     "output_type": "stream",
     "text": [
      "Value in Output Label is -\n",
      "9\n"
     ]
    }
   ],
   "source": [
    "#size of figure\n",
    "plt.figure( figsize = (4,4))\n",
    "\n",
    "#sample index value\n",
    "idx = 100\n",
    "\n",
    "value_in_x = raw_X.iloc[idx].as_matrix().reshape(28,28)\n",
    "plt.imshow(value_in_x)\n",
    "\n",
    "print('Value in Input Image -')\n",
    "plt.show()\n",
    "\n",
    "print('Value in Output Label is -')\n",
    "print(raw_Y[idx])"
   ]
  },
  {
   "cell_type": "markdown",
   "metadata": {},
   "source": [
    "Thus each index in raw_X corresponds to same index in raw_Y"
   ]
  },
  {
   "cell_type": "markdown",
   "metadata": {},
   "source": [
    "#### 3.4 Check for Null or missing values"
   ]
  },
  {
   "cell_type": "code",
   "execution_count": 7,
   "metadata": {},
   "outputs": [
    {
     "name": "stdout",
     "output_type": "stream",
     "text": [
      "False\n",
      "False\n"
     ]
    }
   ],
   "source": [
    "print(raw_X.isnull().any().any())\n",
    "print(raw_Y.isnull().any().any())"
   ]
  },
  {
   "cell_type": "markdown",
   "metadata": {},
   "source": [
    "**Observation** <br>\n",
    "No Null values present in input and output variable. "
   ]
  },
  {
   "cell_type": "markdown",
   "metadata": {},
   "source": [
    "#### 3.5 Input Data Standardization \n",
    "Making the mean of dataset to 0 and standard deviation to 1. "
   ]
  },
  {
   "cell_type": "code",
   "execution_count": 8,
   "metadata": {},
   "outputs": [
    {
     "name": "stdout",
     "output_type": "stream",
     "text": [
      "(42000, 784)\n"
     ]
    }
   ],
   "source": [
    "#Standardizing Input Date\n",
    "stan_X = StandardScaler().fit_transform(raw_X)\n",
    "\n",
    "print(stan_X.shape)"
   ]
  },
  {
   "cell_type": "markdown",
   "metadata": {},
   "source": [
    "### 4. PCA (Principal Component Analysis) -\n",
    "\n",
    "Steps of PCA -\n",
    "1. Find the covarient matrix using standardized dataset. \n",
    "2. Find eighen values and eighen vector\n",
    "3. Using the Eighen vector, find new dimensions. "
   ]
  },
  {
   "cell_type": "markdown",
   "metadata": {},
   "source": [
    "#### 4.1 Covariance Matrix"
   ]
  },
  {
   "cell_type": "code",
   "execution_count": 9,
   "metadata": {},
   "outputs": [
    {
     "name": "stdout",
     "output_type": "stream",
     "text": [
      "Multiplying (784, 42000) with (42000, 784) gives covarient matrix of shape -\n",
      "(784, 784)\n"
     ]
    }
   ],
   "source": [
    "#covariance matrix\n",
    "covar_mmatrix = np.matmul(stan_X.T, stan_X)\n",
    "\n",
    "print('Multiplying %s with %s gives covarient matrix of shape -' %( stan_X.T.shape,stan_X.shape))\n",
    "print(covar_mmatrix.shape)"
   ]
  },
  {
   "cell_type": "markdown",
   "metadata": {},
   "source": [
    "#### 4.2 Eighen Value and Vector"
   ]
  },
  {
   "cell_type": "code",
   "execution_count": 10,
   "metadata": {
    "scrolled": false
   },
   "outputs": [
    {
     "data": {
      "text/plain": [
       "Text(0.5,1,'% of Info Retained')"
      ]
     },
     "execution_count": 10,
     "metadata": {},
     "output_type": "execute_result"
    },
    {
     "data": {
      "image/png": "[encoded data removed]",
      "text/plain": [
       "<matplotlib.figure.Figure at 0x1eb04ae75c0>"
      ]
     },
     "metadata": {},
     "output_type": "display_data"
    }
   ],
   "source": [
    "#Finding all the 784 eighen values\n",
    "eigh_val_784, eigh_vect_784 = eigh(covar_mmatrix, eigvals = (0,783))\n",
    "\n",
    "#Sorting eighen values in descending order\n",
    "eigh_val_784_sort = eigh_val_784[::-1]\n",
    "\n",
    "eigh_x = eigh_val_784_sort \n",
    "eigh_y = np.cumsum(eigh_val_784_sort)\n",
    "\n",
    "cum_exp_var = eigh_y / sum(eigh_val_784_sort)\n",
    "\n",
    "plt.figure(1, figsize=(6, 4))\n",
    "\n",
    "plt.grid()\n",
    "\n",
    "# Plot to display Percentage of Information Retained by number of dimensions**\n",
    "plt.plot(cum_exp_var)\n",
    "plt.xlabel('Number of Dimensions')\n",
    "plt.ylabel('Information Retained')\n",
    "plt.title('% of Info Retained')\n"
   ]
  },
  {
   "cell_type": "markdown",
   "metadata": {},
   "source": [
    "**Observation** <br>\n",
    "Just by using 200 dimensions we can retain almost 90% of the information. \n",
    "\n",
    "**Note - ** <br>\n",
    "Using the top 2 dimensions (principal components) for basic visualization that is -"
   ]
  },
  {
   "cell_type": "code",
   "execution_count": 11,
   "metadata": {},
   "outputs": [
    {
     "name": "stdout",
     "output_type": "stream",
     "text": [
      "(784, 2)\n",
      "% Information Retained with just 2 Dimensions = 9.86%\n"
     ]
    }
   ],
   "source": [
    "# Top 2 Eighen values and there corresponding eighen Vectors\n",
    "eigh_val_2, eigh_vect_2 = eigh(covar_mmatrix, eigvals = (782,783))\n",
    "\n",
    "print(eigh_vect_2.shape)\n",
    "\n",
    "perc_info_retain = (np.sum(eigh_val_2) / np.sum(eigh_val_784))\n",
    "print('% Information Retained with just 2 Dimensions = {0:.2%}'.format(perc_info_retain))"
   ]
  },
  {
   "cell_type": "code",
   "execution_count": 12,
   "metadata": {},
   "outputs": [
    {
     "name": "stdout",
     "output_type": "stream",
     "text": [
      "Multiplying Eighen Matrix (2, 784) with Standardized datased (784, 42000) gives new coordinate matrix with shape -\n",
      "(2, 42000)\n"
     ]
    }
   ],
   "source": [
    "#Eighen transpose\n",
    "eigh_vect_2_T = eigh_vect_2.T\n",
    "\n",
    "#New Coordinates\n",
    "new_cord_matrix = np.matmul(eigh_vect_2_T, stan_X.T)\n",
    "\n",
    "print('Multiplying Eighen Matrix %s with Standardized datased %s gives new coordinate matrix with shape -' %( eigh_vect_2_T.shape,stan_X.T.shape))\n",
    "print(new_cord_matrix.shape)\n"
   ]
  },
  {
   "cell_type": "markdown",
   "metadata": {},
   "source": [
    "**Observation** <br>\n",
    "The 2 rows represents the 2 new coordinates. 42000 columns represents 42000 datapoints. <br>"
   ]
  },
  {
   "cell_type": "code",
   "execution_count": 13,
   "metadata": {},
   "outputs": [
    {
     "name": "stdout",
     "output_type": "stream",
     "text": [
      "(42000, 3)\n"
     ]
    }
   ],
   "source": [
    "#Joining new input dimennsions with output variable.\n",
    "new_cord_trans_XY = np.vstack((new_cord_matrix ,raw_Y)).T\n",
    "print(new_cord_trans_XY.shape)"
   ]
  },
  {
   "cell_type": "code",
   "execution_count": 14,
   "metadata": {},
   "outputs": [],
   "source": [
    "#Converting nupmy object into Dataframe\n",
    "final_df = pd.DataFrame(data = new_cord_trans_XY, columns = ('1st_Component' , '2nd_Component', 'Label'))"
   ]
  },
  {
   "cell_type": "code",
   "execution_count": 15,
   "metadata": {
    "scrolled": false
   },
   "outputs": [
    {
     "name": "stdout",
     "output_type": "stream",
     "text": [
      "Dataset has 42000 rows and 3 columns\n",
      "\n",
      " Below are sample 5 records in dataset -\n"
     ]
    },
    {
     "data": {
      "text/html": [
       "<div>\n",
       "<style scoped>\n",
       "    .dataframe tbody tr th:only-of-type {\n",
       "        vertical-align: middle;\n",
       "    }\n",
       "\n",
       "    .dataframe tbody tr th {\n",
       "        vertical-align: top;\n",
       "    }\n",
       "\n",
       "    .dataframe thead th {\n",
       "        text-align: right;\n",
       "    }\n",
       "</style>\n",
       "<table border=\"1\" class=\"dataframe\">\n",
       "  <thead>\n",
       "    <tr style=\"text-align: right;\">\n",
       "      <th></th>\n",
       "      <th>1st_Component</th>\n",
       "      <th>2nd_Component</th>\n",
       "      <th>Label</th>\n",
       "    </tr>\n",
       "  </thead>\n",
       "  <tbody>\n",
       "    <tr>\n",
       "      <th>0</th>\n",
       "      <td>-5.226445</td>\n",
       "      <td>-5.140478</td>\n",
       "      <td>1.0</td>\n",
       "    </tr>\n",
       "    <tr>\n",
       "      <th>1</th>\n",
       "      <td>6.032996</td>\n",
       "      <td>19.292332</td>\n",
       "      <td>0.0</td>\n",
       "    </tr>\n",
       "    <tr>\n",
       "      <th>2</th>\n",
       "      <td>-1.705813</td>\n",
       "      <td>-7.644503</td>\n",
       "      <td>1.0</td>\n",
       "    </tr>\n",
       "    <tr>\n",
       "      <th>3</th>\n",
       "      <td>5.836139</td>\n",
       "      <td>-0.474207</td>\n",
       "      <td>4.0</td>\n",
       "    </tr>\n",
       "    <tr>\n",
       "      <th>4</th>\n",
       "      <td>6.024818</td>\n",
       "      <td>26.559574</td>\n",
       "      <td>0.0</td>\n",
       "    </tr>\n",
       "  </tbody>\n",
       "</table>\n",
       "</div>"
      ],
      "text/plain": [
       "   1st_Component  2nd_Component  Label\n",
       "0      -5.226445      -5.140478    1.0\n",
       "1       6.032996      19.292332    0.0\n",
       "2      -1.705813      -7.644503    1.0\n",
       "3       5.836139      -0.474207    4.0\n",
       "4       6.024818      26.559574    0.0"
      ]
     },
     "execution_count": 15,
     "metadata": {},
     "output_type": "execute_result"
    }
   ],
   "source": [
    "print('Dataset has %d rows and %d columns' % (final_df.shape[0] ,final_df.shape[1]))\n",
    "print('\\n Below are sample 5 records in dataset -')\n",
    "final_df.head()"
   ]
  },
  {
   "cell_type": "code",
   "execution_count": 16,
   "metadata": {
    "scrolled": true
   },
   "outputs": [
    {
     "data": {
      "image/png": "[encoded data removed]",
      "text/plain": [
       "<matplotlib.figure.Figure at 0x1eb0519e7f0>"
      ]
     },
     "metadata": {},
     "output_type": "display_data"
    }
   ],
   "source": [
    "#Plot Scatter Plot on Final_df\n",
    "sns.FacetGrid( final_df, hue = 'Label', size = 4) \\\n",
    ".map( plt.scatter, '1st_Component', '2nd_Component').add_legend()\n",
    "plt.show()"
   ]
  },
  {
   "cell_type": "markdown",
   "metadata": {},
   "source": [
    "**Observation**\n",
    "Thus, using just 2 principal component, we can see some clear distinction between MNIST output labels."
   ]
  },
  {
   "cell_type": "markdown",
   "metadata": {},
   "source": [
    "## 5. PCA using Scikit-Learn Module"
   ]
  },
  {
   "cell_type": "markdown",
   "metadata": {},
   "source": [
    "All the computations done above can be minimized using inbuild PCA module in Sklearn. "
   ]
  },
  {
   "cell_type": "code",
   "execution_count": 17,
   "metadata": {},
   "outputs": [
    {
     "name": "stdout",
     "output_type": "stream",
     "text": [
      "(42000, 2)\n"
     ]
    }
   ],
   "source": [
    "#configuring model\n",
    "#n_components signifies how many new dimensions pr principal components we want to retain.\n",
    "pca = decomposition.PCA(n_components = 2)\n",
    "\n",
    "#binding configured PCA to our dataset.\n",
    "pca_data = pca.fit_transform(stan_X)\n",
    "\n",
    "print(pca_data.shape)"
   ]
  },
  {
   "cell_type": "markdown",
   "metadata": {},
   "source": [
    "Observe how all the computations to calculate covariance matrix, eighen vector and new coordinates have been taken care of by the Sklearn Module itself. "
   ]
  },
  {
   "cell_type": "code",
   "execution_count": 18,
   "metadata": {},
   "outputs": [],
   "source": [
    "#Joining pca transformed data with output data.\n",
    "pca_sklearn_final_data = np.vstack((pca_data.T , raw_Y)).T\n",
    "\n",
    "#creating dataframe\n",
    "pca_skborn_df = pd.DataFrame(pca_sklearn_final_data, columns = ('1st_Component' , '2nd_Component', 'Label'))"
   ]
  },
  {
   "cell_type": "code",
   "execution_count": 19,
   "metadata": {
    "scrolled": true
   },
   "outputs": [
    {
     "data": {
      "image/png": "[encoded data removed]",
      "text/plain": [
       "<matplotlib.figure.Figure at 0x1eb04e94518>"
      ]
     },
     "metadata": {},
     "output_type": "display_data"
    }
   ],
   "source": [
    "sns.FacetGrid( pca_skborn_df, hue = 'Label', size = 4) \\\n",
    ".map( plt.scatter, '1st_Component', '2nd_Component').add_legend()\n",
    "\n",
    "plt.show()"
   ]
  },
  {
   "cell_type": "markdown",
   "metadata": {},
   "source": [
    "**Observation** <br>\n",
    "The distinction in output labels for both the plots is almost similar. "
   ]
  },
  {
   "cell_type": "markdown",
   "metadata": {},
   "source": [
    "## 6. T-SNE\n",
    "\n",
    "T-SNE is state of the art model for dimensionality reduction. <br>\n",
    "It stands for T-distributed Stochaitic Neighbourhood Embedding and uses the concept of transforming higher dimensions into lower dimensions using neighbourhood distance."
   ]
  },
  {
   "cell_type": "code",
   "execution_count": 21,
   "metadata": {},
   "outputs": [],
   "source": [
    "# configuring model\n",
    "# the number of components = 2\n",
    "# perplexity = 30\n",
    "# number of iterations for the optimization = 300\n",
    "tsne_model = TSNE(n_components = 2, perplexity = 30, n_iter =300, random_state = 0)\n",
    "tsne_data = tsne_model.fit_transform(stan_X)\n",
    "\n",
    "tsne_sklearn_final_data = np.vstack((tsne_data.T , raw_Y)).T\n",
    "\n",
    "tsne_skborn_df = pd.DataFrame(tsne_sklearn_final_data, columns = ('1st_Component' , '2nd_Component', 'Label'))"
   ]
  },
  {
   "cell_type": "code",
   "execution_count": 22,
   "metadata": {},
   "outputs": [
    {
     "data": {
      "image/png": "[encoded data removed]",
      "text/plain": [
       "<matplotlib.figure.Figure at 0x1eb04feab00>"
      ]
     },
     "metadata": {},
     "output_type": "display_data"
    }
   ],
   "source": [
    "#Plot graph\n",
    "sns.FacetGrid( tsne_skborn_df, hue = 'Label', size = 4) \\\n",
    ".map( plt.scatter, '1st_Component', '2nd_Component').add_legend()\n",
    "\n",
    "plt.show()"
   ]
  },
  {
   "cell_type": "markdown",
   "metadata": {},
   "source": [
    "**Observation**\n",
    "As evident, T-SNE gives more clearer distinction than PCA."
   ]
  }
 ],
 "metadata": {
  "kernelspec": {
   "display_name": "Python 3",
   "language": "python",
   "name": "python3"
  },
  "language_info": {
   "codemirror_mode": {
    "name": "ipython",
    "version": 3
   },
   "file_extension": ".py",
   "mimetype": "text/x-python",
   "name": "python",
   "nbconvert_exporter": "python",
   "pygments_lexer": "ipython3",
   "version": "3.6.4"
  }
 },
 "nbformat": 4,
 "nbformat_minor": 2
}
